{
 "cells": [
  {
   "cell_type": "code",
   "execution_count": 17,
   "id": "fc1f242d",
   "metadata": {},
   "outputs": [
    {
     "name": "stdout",
     "output_type": "stream",
     "text": [
      "Requirement already satisfied: scikit-learn==1.7.1 in c:\\users\\kunde\\appdata\\local\\programs\\python\\python313\\lib\\site-packages (1.7.1)\n",
      "Requirement already satisfied: numpy>=1.22.0 in c:\\users\\kunde\\appdata\\local\\programs\\python\\python313\\lib\\site-packages (from scikit-learn==1.7.1) (2.3.2)\n",
      "Requirement already satisfied: scipy>=1.8.0 in c:\\users\\kunde\\appdata\\local\\programs\\python\\python313\\lib\\site-packages (from scikit-learn==1.7.1) (1.16.1)\n",
      "Requirement already satisfied: joblib>=1.2.0 in c:\\users\\kunde\\appdata\\local\\programs\\python\\python313\\lib\\site-packages (from scikit-learn==1.7.1) (1.5.1)\n",
      "Requirement already satisfied: threadpoolctl>=3.1.0 in c:\\users\\kunde\\appdata\\local\\programs\\python\\python313\\lib\\site-packages (from scikit-learn==1.7.1) (3.6.0)\n",
      "Note: you may need to restart the kernel to use updated packages.\n"
     ]
    }
   ],
   "source": [
    "%pip install scikit-learn==1.7.1"
   ]
  },
  {
   "cell_type": "code",
   "execution_count": 18,
   "id": "0ef1b3f4",
   "metadata": {},
   "outputs": [
    {
     "name": "stdout",
     "output_type": "stream",
     "text": [
      "Requirement already satisfied: fsspec in c:\\users\\kunde\\appdata\\local\\programs\\python\\python313\\lib\\site-packages (2025.7.0)\n",
      "Note: you may need to restart the kernel to use updated packages.\n"
     ]
    }
   ],
   "source": [
    "%pip install fsspec"
   ]
  },
  {
   "cell_type": "code",
   "execution_count": 19,
   "id": "6288e6ee",
   "metadata": {},
   "outputs": [
    {
     "name": "stdout",
     "output_type": "stream",
     "text": [
      "Requirement already satisfied: seaborn in c:\\users\\kunde\\appdata\\local\\programs\\python\\python313\\lib\\site-packages (0.13.2)\n",
      "Requirement already satisfied: numpy!=1.24.0,>=1.20 in c:\\users\\kunde\\appdata\\local\\programs\\python\\python313\\lib\\site-packages (from seaborn) (2.3.2)\n",
      "Requirement already satisfied: pandas>=1.2 in c:\\users\\kunde\\appdata\\local\\programs\\python\\python313\\lib\\site-packages (from seaborn) (2.3.1)\n",
      "Requirement already satisfied: matplotlib!=3.6.1,>=3.4 in c:\\users\\kunde\\appdata\\local\\programs\\python\\python313\\lib\\site-packages (from seaborn) (3.10.5)\n",
      "Requirement already satisfied: contourpy>=1.0.1 in c:\\users\\kunde\\appdata\\local\\programs\\python\\python313\\lib\\site-packages (from matplotlib!=3.6.1,>=3.4->seaborn) (1.3.3)\n",
      "Requirement already satisfied: cycler>=0.10 in c:\\users\\kunde\\appdata\\local\\programs\\python\\python313\\lib\\site-packages (from matplotlib!=3.6.1,>=3.4->seaborn) (0.12.1)\n",
      "Requirement already satisfied: fonttools>=4.22.0 in c:\\users\\kunde\\appdata\\local\\programs\\python\\python313\\lib\\site-packages (from matplotlib!=3.6.1,>=3.4->seaborn) (4.59.0)\n",
      "Requirement already satisfied: kiwisolver>=1.3.1 in c:\\users\\kunde\\appdata\\local\\programs\\python\\python313\\lib\\site-packages (from matplotlib!=3.6.1,>=3.4->seaborn) (1.4.9)\n",
      "Requirement already satisfied: packaging>=20.0 in c:\\users\\kunde\\appdata\\local\\programs\\python\\python313\\lib\\site-packages (from matplotlib!=3.6.1,>=3.4->seaborn) (25.0)\n",
      "Requirement already satisfied: pillow>=8 in c:\\users\\kunde\\appdata\\local\\programs\\python\\python313\\lib\\site-packages (from matplotlib!=3.6.1,>=3.4->seaborn) (11.3.0)\n",
      "Requirement already satisfied: pyparsing>=2.3.1 in c:\\users\\kunde\\appdata\\local\\programs\\python\\python313\\lib\\site-packages (from matplotlib!=3.6.1,>=3.4->seaborn) (3.2.3)\n",
      "Requirement already satisfied: python-dateutil>=2.7 in c:\\users\\kunde\\appdata\\local\\programs\\python\\python313\\lib\\site-packages (from matplotlib!=3.6.1,>=3.4->seaborn) (2.9.0.post0)\n",
      "Requirement already satisfied: pytz>=2020.1 in c:\\users\\kunde\\appdata\\local\\programs\\python\\python313\\lib\\site-packages (from pandas>=1.2->seaborn) (2025.2)\n",
      "Requirement already satisfied: tzdata>=2022.7 in c:\\users\\kunde\\appdata\\local\\programs\\python\\python313\\lib\\site-packages (from pandas>=1.2->seaborn) (2025.2)\n",
      "Requirement already satisfied: six>=1.5 in c:\\users\\kunde\\appdata\\local\\programs\\python\\python313\\lib\\site-packages (from python-dateutil>=2.7->matplotlib!=3.6.1,>=3.4->seaborn) (1.17.0)\n",
      "Note: you may need to restart the kernel to use updated packages.\n"
     ]
    }
   ],
   "source": [
    "%pip install seaborn"
   ]
  },
  {
   "cell_type": "code",
   "execution_count": 27,
   "id": "81ce0455",
   "metadata": {},
   "outputs": [
    {
     "name": "stdout",
     "output_type": "stream",
     "text": [
      "Numpy Version: 2.3.2\n",
      "Dataset successfully imported with shape: (76014, 15)\n",
      "Before removing irrelevant columns: (76014, 15)\n",
      "After removing irrelevant columns: (76014, 9)\n",
      "Before removing inconsistent teams: (76014, 9)\n",
      "After removing inconsistent teams: (53811, 9)\n",
      "Before removing early overs: (53811, 9)\n",
      "After removing early overs: (40108, 9)\n",
      "Training set: (32086, 52)\n",
      "Testing set: (8022, 52)\n",
      "✅ Training columns saved as training_columns_shaunak.joblib\n",
      "---- Random Forest Evaluation ----\n",
      "Accuracy: 0.9895\n",
      "Precision: 0.9884\n",
      "Recall: 0.9894\n",
      "F1-Score: 0.9889\n",
      "✅ Random Forest classifier model saved as forest_classifier_shaunak.joblib\n",
      "scikit-learn version: 1.7.1\n"
     ]
    }
   ],
   "source": [
    "# 13-08-2025\n",
    "# Shaunak_AI_ML_Internship_Task_3\n",
    "# IPL_Winning_Team_Prediction\n",
    "# Train model on Decision Tree, Linear Regression, SVM, Lasso, Random Forest, Neural Network\n",
    "\n",
    "# Importing Necessary Libraries\n",
    "# ------------------------------\n",
    "import pandas as pd\n",
    "import numpy as np\n",
    "import joblib\n",
    "from sklearn.model_selection import train_test_split\n",
    "from sklearn.preprocessing import OneHotEncoder\n",
    "from sklearn.ensemble import RandomForestClassifier\n",
    "from sklearn.metrics import accuracy_score, precision_score, recall_score, f1_score\n",
    "import seaborn as sns\n",
    "import matplotlib.pyplot as plt\n",
    "import sklearn\n",
    "\n",
    "print(f\"Numpy Version: {np.__version__}\")\n",
    "\n",
    "# ------------------------------\n",
    "# Import dataset\n",
    "# ------------------------------\n",
    "data = pd.read_csv(\n",
    "    'C://Users//kunde//Desktop//Virtual internship//InternPe//Assignments//fresh task 3//ipl_dataset.csv'\n",
    ")\n",
    "print(f\"Dataset successfully imported with shape: {data.shape}\")\n",
    "\n",
    "# ------------------------------\n",
    "# Remove irrelevant columns\n",
    "# ------------------------------\n",
    "irrelevant = ['mid', 'date', 'batsman', 'bowler', 'striker', 'non-striker']\n",
    "print(f\"Before removing irrelevant columns: {data.shape}\")\n",
    "data = data.drop(irrelevant, axis=1)\n",
    "print(f\"After removing irrelevant columns: {data.shape}\")\n",
    "\n",
    "# ------------------------------\n",
    "# Keep only consistent teams\n",
    "# ------------------------------\n",
    "const_teams = [\n",
    "    'Kolkata Knight Riders', 'Chennai Super Kings', 'Rajasthan Royals',\n",
    "    'Mumbai Indians', 'Kings XI Punjab', 'Royal Challengers Bangalore',\n",
    "    'Delhi Daredevils', 'Sunrisers Hyderabad'\n",
    "]\n",
    "print(f\"Before removing inconsistent teams: {data.shape}\")\n",
    "data = data[(data['batting_team'].isin(const_teams)) & (data['bowling_team'].isin(const_teams))]\n",
    "print(f\"After removing inconsistent teams: {data.shape}\")\n",
    "\n",
    "# ------------------------------\n",
    "# Remove early overs (< 5)\n",
    "# ------------------------------\n",
    "print(f\"Before removing early overs: {data.shape}\")\n",
    "data = data[data['overs'] >= 5.0]\n",
    "print(f\"After removing early overs: {data.shape}\")\n",
    "\n",
    "# ------------------------------\n",
    "# Feature Engineering for Classification\n",
    "# ------------------------------\n",
    "# Create a new binary target variable 'is_win'\n",
    "# This is a simplification. A real-world model would use a dataset with win/loss outcomes.\n",
    "median_score = data['total'].median()\n",
    "data['is_win'] = (data['total'] > median_score).astype(int)\n",
    "data = data.drop('total', axis=1)\n",
    "\n",
    "# ------------------------------\n",
    "# Separate Features and Labels\n",
    "# ------------------------------\n",
    "labels = data['is_win']\n",
    "features = data.drop('is_win', axis=1)\n",
    "\n",
    "# ------------------------------\n",
    "# Encode categorical variables manually for robustness\n",
    "# ------------------------------\n",
    "categorical_features = ['batting_team', 'bowling_team', 'venue']\n",
    "numerical_features = ['runs', 'wickets', 'overs', 'runs_last_5', 'wickets_last_5']\n",
    "\n",
    "# Create a OneHotEncoder for the categorical features\n",
    "one_hot_encoder = OneHotEncoder(handle_unknown='ignore', sparse_output=False)\n",
    "encoded_features = one_hot_encoder.fit_transform(features[categorical_features])\n",
    "\n",
    "# Create a DataFrame from the encoded features\n",
    "ohe_feature_names = one_hot_encoder.get_feature_names_out(categorical_features)\n",
    "ohe_df = pd.DataFrame(encoded_features, columns=ohe_feature_names, index=features.index)\n",
    "\n",
    "# Create a DataFrame from the numerical features\n",
    "numerical_df = features[numerical_features]\n",
    "\n",
    "# Concatenate the two DataFrames to create the final feature set\n",
    "df = pd.concat([ohe_df, numerical_df], axis=1)\n",
    "\n",
    "# ------------------------------\n",
    "# Split features & labels\n",
    "# ------------------------------\n",
    "train_features, test_features, train_labels, test_labels = train_test_split(\n",
    "    df, labels, test_size=0.20, shuffle=True\n",
    ")\n",
    "print(f\"Training set: {train_features.shape}\")\n",
    "print(f\"Testing set: {test_features.shape}\")\n",
    "\n",
    "# ------------------------------\n",
    "# Save training columns\n",
    "# ------------------------------\n",
    "joblib.dump(train_features.columns, \"training_columns_shaunak.joblib\")\n",
    "print(\"✅ Training columns saved as training_columns_shaunak.joblib\")\n",
    "\n",
    "# ------------------------------\n",
    "# Keep track of models\n",
    "# ------------------------------\n",
    "models = dict()\n",
    "\n",
    "# ------------------------------\n",
    "# Random Forest (Main Model) - now a Classifier\n",
    "# ------------------------------\n",
    "forest = RandomForestClassifier(random_state=42)\n",
    "forest.fit(train_features, train_labels)\n",
    "\n",
    "# Evaluate with classification metrics\n",
    "y_pred = forest.predict(test_features)\n",
    "accuracy = accuracy_score(test_labels, y_pred)\n",
    "models[\"Random Forest\"] = accuracy * 100\n",
    "print(\"---- Random Forest Evaluation ----\")\n",
    "print(f\"Accuracy: {accuracy:.4f}\")\n",
    "print(f\"Precision: {precision_score(test_labels, y_pred):.4f}\")\n",
    "print(f\"Recall: {recall_score(test_labels, y_pred):.4f}\")\n",
    "print(f\"F1-Score: {f1_score(test_labels, y_pred):.4f}\")\n",
    "\n",
    "# ------------------------------\n",
    "# Save Random Forest classifier model\n",
    "# ------------------------------\n",
    "joblib.dump(forest, \"forest_classifier_shaunak.joblib\")\n",
    "print(\"✅ Random Forest classifier model saved as forest_classifier_shaunak.joblib\")\n",
    "\n",
    "# Print sklearn version\n",
    "print(\"scikit-learn version:\", sklearn.__version__)"
   ]
  }
 ],
 "metadata": {
  "kernelspec": {
   "display_name": "Python 3 (sklearn 1.7.1)",
   "language": "python",
   "name": "sklearn171"
  },
  "language_info": {
   "codemirror_mode": {
    "name": "ipython",
    "version": 3
   },
   "file_extension": ".py",
   "mimetype": "text/x-python",
   "name": "python",
   "nbconvert_exporter": "python",
   "pygments_lexer": "ipython3",
   "version": "3.13.5"
  }
 },
 "nbformat": 4,
 "nbformat_minor": 5
}
